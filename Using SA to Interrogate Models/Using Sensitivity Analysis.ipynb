{
 "cells": [
  {
   "cell_type": "markdown",
   "metadata": {
    "slideshow": {
     "slide_type": "slide"
    }
   },
   "source": [
    "# Using Sensitivity Analysis to Interrogate Models\n",
    "\n",
    "Will Usher, UCL Energy Institute\n",
    "\n",
    "10th December 2015"
   ]
  },
  {
   "cell_type": "markdown",
   "metadata": {
    "slideshow": {
     "slide_type": "slide"
    }
   },
   "source": [
    "# Agenda\n",
    "\n",
    "1. What is Sensitivity Analysis?\n",
    "1. Sensitivity Analysis Techniques\n",
    "1. Some (Interactive) Examples\n",
    "1. Summary"
   ]
  },
  {
   "cell_type": "code",
   "execution_count": 38,
   "metadata": {
    "collapsed": false,
    "slideshow": {
     "slide_type": "skip"
    }
   },
   "outputs": [],
   "source": [
    "from ipywidgets import widgets, interact\n",
    "from IPython.display import display\n",
    "%matplotlib inline\n",
    "import seaborn as sbn\n",
    "import matplotlib.pyplot as plt\n",
    "import numpy as np\n",
    "from IPython.core.pylabtools import figsize\n",
    "figsize(11, 9)"
   ]
  },
  {
   "cell_type": "markdown",
   "metadata": {
    "slideshow": {
     "slide_type": "slide"
    }
   },
   "source": [
    "#  Introduction"
   ]
  },
  {
   "cell_type": "markdown",
   "metadata": {
    "slideshow": {
     "slide_type": "subslide"
    }
   },
   "source": [
    "## Uncertainty and Modelling\n",
    "\n",
    "We use models to encode natural phenomena, to project and forecast, to understand, to learn.\n",
    "\n",
    "Examples of models:\n",
    "* discounted cash flow analysis\n",
    "* [Gina coefficient](https://en.wikipedia.org/wiki/Gini_coefficient#Based_on_just_two_levels_of_income) (statistical measure of inequality)\n",
    "* UKTM - energy system model of the United Kingdom\n",
    "* [MetUM](http://www.metoffice.gov.uk/research/modelling-systems/unified-model) - UK weather forecasting"
   ]
  },
  {
   "cell_type": "markdown",
   "metadata": {
    "slideshow": {
     "slide_type": "slide"
    }
   },
   "source": [
    "## What is Sensitivity Analysis?\n",
    "\n",
    "“...the study of how the uncertainty in the output of a mathematical model or system (numerical or otherwise) can be apportioned to different sources of uncertainty in its inputs.” \n",
    "\n",
    "There are two families of approaches:\n",
    "\n",
    "* _Local approaches_\n",
    "    * e.g. one-at-a-time (OAT) approach\n",
    "    * low data requirements\n",
    "    * quick and easy to conduct\n",
    "    * do not capture interactions between inputs\n",
    "    * misleading for non-linear models\n",
    "\n",
    "* _Global approaches_\n",
    "    * e.g. Sobol analysis\n",
    "    * often need probabilistic data\n",
    "    * computationally demanding\n",
    "    * capture interactions between inputs\n",
    "    * handle non-linear and non-additive models"
   ]
  },
  {
   "cell_type": "markdown",
   "metadata": {
    "slideshow": {
     "slide_type": "subslide"
    }
   },
   "source": [
    "### Characteristics of sensitivity and uncertainty analysis methods \n",
    "\n",
    "(adapted from Flechsig (2012), Saltelli(2008))\n",
    "\n",
    "| Type | Morris | Variance | Factorial | Monte Carlo | Local SA |\n",
    "|:------|------|------|------|------|------|\n",
    "|Model independent? | yes | yes | yes | yes | yes|\n",
    "|Sample source | levels | distributions | levels | distributions | levels |\n",
    "|No. factors | $20-100$[1] | $<20$[1] | $>100$[1] | $<20$ | $<100$ |\n",
    "|Factor range | global | global | global | global | local |\n",
    "|Multi-factor variation | yes | yes | yes | yes | no |\n",
    "|Correlated factors? | no | no | yes | yes | no |\n",
    "|Cost (for k factors)? | $10(k+1)$ | $500(k+2)$ | $k \\to 2k$ | $500+1$ | $2(k+1)$ |\n",
    "|Estimated CPU time for ESME[2] | 1 day | 11 days | 3 hours | ~2 days | 1 hour |\n",
    "  \n",
    "[1] using groups of factors would enable larger numbers of factors to be explored\n",
    "[2] assuming 5 minutes per simulation and 30 groups of factors"
   ]
  },
  {
   "cell_type": "markdown",
   "metadata": {
    "slideshow": {
     "slide_type": "subslide"
    }
   },
   "source": [
    "### Global Sensitivity Analysis\n",
    "\n",
    "Variance-based approaches **score** the sensitivity of each input with a numerical value, called the sensitivity index. Sensitivity indices come in several forms:\n",
    "* First-order indices: measures the contribution to the output variance by a single model input alone.\n",
    "* Second-order indices: measures the contribution to the output variance caused by the interaction of two model inputs.\n",
    "* Total-order index: measures the contribution to the output variance caused by a model input, including both its first-order effects (the input varying alone) and all higher-order interactions."
   ]
  },
  {
   "cell_type": "markdown",
   "metadata": {
    "collapsed": true,
    "slideshow": {
     "slide_type": "slide"
    }
   },
   "source": [
    "# Vehicle to Grid (V2G)\n",
    "\n",
    "[Kempton (2005)](http://www.sciencedirect.com/science/article/pii/S0378775305000352) raise the prospect of using battery electric vehicles (BEVs) as mobile storage devices for electricity.  Other than pumped hydro, the electricity grid has virtually no storage devices.  Electricity storage could facilitate large capacities of variable output renewable technologies such as wind turbines and solar photovoltaics.\n",
    "\n",
    "The concept of V2G is that electric the owners of electric (or even hydrogen fuel cell) vehicles could sacrifice some of their flexibility in return for hard cash by offering the use of their cars as giant batteries.\n"
   ]
  },
  {
   "cell_type": "code",
   "execution_count": 17,
   "metadata": {
    "collapsed": false,
    "slideshow": {
     "slide_type": "subslide"
    }
   },
   "outputs": [],
   "source": [
    "def max_vehicle_power(connector_power,\n",
    "                      stored_energy,\n",
    "                      distance_driven,\n",
    "                      range_buffer,\n",
    "                      dispatch_time,\n",
    "                      driving_efficiency=4.025,\n",
    "                      inverter_efficiency=0.93\n",
    "                      ):\n",
    "    '''\n",
    "    Computed the maximum electrical power output of a vehicle in\n",
    "    vehicle-to-grid\n",
    "    \n",
    "    Arguments:\n",
    "        stored_energy - energy available as DC kWh to the invertor\n",
    "        distance_driven - distance driven in km since energy storage full\n",
    "        range_buffer - minimum range required by the driver in km\n",
    "        driving_efficiency - 4.025 km/kWh\n",
    "        inverter_efficiency - electrical conversion efficiency of DC to AC\n",
    "                              inverter (93%)\n",
    "        dispatch_time - time over which the vehicle's stored energy \n",
    "                        is dispatched in hours\n",
    "    \n",
    "    Returns:\n",
    "        the minimum of the connector_power and maximum power for V2G in kW\n",
    "    '''\n",
    "\n",
    "\n",
    "    max_vehicle_power = ((stored_energy - \\\n",
    "                         ((distance_driven + range_buffer) \\\n",
    "                         / driving_efficiency)) * inverter_efficiency) \\\n",
    "                         / dispatch_time\n",
    "    \n",
    "    return np.maximum(0, np.minimum(connector_power, max_vehicle_power))"
   ]
  },
  {
   "cell_type": "code",
   "execution_count": 18,
   "metadata": {
    "collapsed": false,
    "slideshow": {
     "slide_type": "subslide"
    }
   },
   "outputs": [
    {
     "data": {
      "text/plain": [
       "3.0"
      ]
     },
     "metadata": {},
     "output_type": "display_data"
    }
   ],
   "source": [
    "@interact(connector=widgets.FloatSlider(value=3.0, min=1.5, max=14, step=0.5), \n",
    "          battery_size=widgets.FloatSlider(value=30, min=10, max=100, step=10), \n",
    "          distance_driven=widgets.FloatSlider(value=0, min=0, max=100, step=5), \n",
    "          range_buffer=widgets.FloatSlider(value=0, min=0, max=100, step=10))\n",
    "def plot_power(connector, battery_size, distance_driven, range_buffer):\n",
    "    dispatch_time = 8\n",
    "    return max_vehicle_power(connector,\n",
    "                      battery_size,\n",
    "                      distance_driven,\n",
    "                      range_buffer,\n",
    "                      dispatch_time\n",
    "                      )"
   ]
  },
  {
   "cell_type": "code",
   "execution_count": 40,
   "metadata": {
    "collapsed": true
   },
   "outputs": [],
   "source": [
    "def monte_carlo(data):\n",
    "    dispatch_time = 8\n",
    "    y = max_vehicle_power(data[0], data[1], data[2], data[3], dispatch_time)\n",
    "    return y\n",
    "\n",
    "def monte_carlo_large(data):\n",
    "    dispatch_time = 8\n",
    "    y = max_vehicle_power(data[0], data[1], data[2], data[3], dispatch_time, data[4], data[5])\n",
    "    return y"
   ]
  },
  {
   "cell_type": "code",
   "execution_count": 41,
   "metadata": {
    "collapsed": false
   },
   "outputs": [
    {
     "data": {
      "text/plain": [
       "<matplotlib.text.Text at 0x10b6435f8>"
      ]
     },
     "execution_count": 41,
     "metadata": {},
     "output_type": "execute_result"
    },
    {
     "data": {
      "image/png": "[encoded data removed]",
      "text/plain": [
       "<matplotlib.figure.Figure at 0x10bfbb6a0>"
      ]
     },
     "metadata": {},
     "output_type": "display_data"
    }
   ],
   "source": [
    "number_sims = 100\n",
    "\n",
    "# Make some random data in the correct ranges\n",
    "mc_connector = np.random.uniform(1.5, 14, number_sims)\n",
    "mc_battery_size = np.random.uniform(10, 50, number_sims)\n",
    "mc_distance_driven = np.random.uniform(0, 40, number_sims)\n",
    "mc_range_buffer = np.random.uniform(0, 40, number_sims)\n",
    "mc_driving_eff = np.random.uniform(2, 6, number_sims)\n",
    "mc_inv_eff = np.random.uniform(0.87, 0.97, number_sims)\n",
    "\n",
    "data = np.array((mc_connector, mc_battery_size, mc_distance_driven, mc_range_buffer, mc_driving_eff, mc_inv_eff))\n",
    "\n",
    "# Run the code\n",
    "y = monte_carlo_large(data)\n",
    "\n",
    "# Make some scatter plots to compare the results\n",
    "plt.subplot(221)\n",
    "plt.scatter(mc_connector, y)\n",
    "plt.title(\"Connector size (kW)\")\n",
    "plt.ylabel(\"Max Power (kW)\")\n",
    "plt.subplot(222)\n",
    "plt.scatter(mc_battery_size, y)\n",
    "plt.title(\"Battery Size (kWh)\")\n",
    "plt.ylabel(\"Max Power (kW)\")\n",
    "plt.subplot(223)\n",
    "plt.scatter(mc_distance_driven, y)\n",
    "plt.title(\"Distance Driven (km)\")\n",
    "plt.ylabel(\"Max Power (kW)\")\n",
    "plt.subplot(224)\n",
    "plt.scatter(mc_range_buffer, y)\n",
    "plt.title(\"Range Buffer (km)\")\n",
    "plt.ylabel(\"Max Power (kW)\")"
   ]
  },
  {
   "cell_type": "code",
   "execution_count": 21,
   "metadata": {
    "collapsed": false
   },
   "outputs": [],
   "source": [
    "from SALib.sample import morris as ms"
   ]
  },
  {
   "cell_type": "markdown",
   "metadata": {
    "slideshow": {
     "slide_type": "slide"
    }
   },
   "source": [
    "## Define a problem file\n",
    "\n",
    "In the code below, a problem file is used to define the variables we wish to explore"
   ]
  },
  {
   "cell_type": "code",
   "execution_count": 43,
   "metadata": {
    "collapsed": false,
    "slideshow": {
     "slide_type": "fragment"
    }
   },
   "outputs": [],
   "source": [
    "problem = {\n",
    "    'num_vars': 6,\n",
    "    'names': ['conn', 'batt', 'dist', 'range', 'dri_eff', 'inv_eff'],\n",
    "    'bounds': [[1.5, 14],\n",
    "               [10, 50],\n",
    "               [0, 40],\n",
    "              [0, 40],\n",
    "              [2,6],\n",
    "              [0.87,0.97]],\n",
    "    'groups': None\n",
    "    }\n",
    "\n",
    "sample = ms.sample(problem, 100, num_levels=4, grid_jump=2)"
   ]
  },
  {
   "cell_type": "code",
   "execution_count": 44,
   "metadata": {
    "collapsed": false
   },
   "outputs": [],
   "source": [
    "output = monte_carlo_large(sample.T)\n",
    "from SALib.analyze import morris\n",
    "Si = morris.analyze(problem, sample, output)"
   ]
  },
  {
   "cell_type": "code",
   "execution_count": 45,
   "metadata": {
    "collapsed": false
   },
   "outputs": [
    {
     "data": {
      "image/png": "[encoded data removed]",
      "text/plain": [
       "<matplotlib.figure.Figure at 0x10ad75978>"
      ]
     },
     "metadata": {},
     "output_type": "display_data"
    }
   ],
   "source": [
    "from SALib.plotting import morris as mp\n",
    "\n",
    "fig, (ax1, ax2) = plt.subplots(1, 2)\n",
    "p = mp.covariance_plot(ax1, Si, {})\n",
    "p = mp.horizontal_bar_plot(ax2, Si)"
   ]
  },
  {
   "cell_type": "code",
   "execution_count": 26,
   "metadata": {
    "collapsed": true
   },
   "outputs": [],
   "source": [
    "def battery_lifetime(lifetime_cycles,\n",
    "                     total_energy_stored,\n",
    "                     depth_of_discharge\n",
    "                    ):\n",
    "    '''\n",
    "    Compute the lifetime of a battery in energy terms\n",
    "    \n",
    "    Arguments:\n",
    "        lifetime_cycles - \n",
    "        total_energy_stored - size of battery (kWh)\n",
    "        depth_of_discharge - the depth of discharge for which \n",
    "                            lifetime_cycles is defined (0 <= DoD <= 1)\n",
    "    \n",
    "    Returns:\n",
    "        battery_lifetime in energy terms - units: kWh\n",
    "    \n",
    "    '''\n",
    "    lifetime = lifetime_cycles * total_energy_stored * depth_of_discharge\n",
    "    return lifetime"
   ]
  },
  {
   "cell_type": "code",
   "execution_count": null,
   "metadata": {
    "collapsed": false
   },
   "outputs": [],
   "source": []
  },
  {
   "cell_type": "code",
   "execution_count": 27,
   "metadata": {
    "collapsed": true
   },
   "outputs": [],
   "source": [
    "rav4e = battery_lifetime(2000, 27.4, 0.8)"
   ]
  },
  {
   "cell_type": "code",
   "execution_count": 28,
   "metadata": {
    "collapsed": false
   },
   "outputs": [
    {
     "data": {
      "text/plain": [
       "43840.0"
      ]
     },
     "execution_count": 28,
     "metadata": {},
     "output_type": "execute_result"
    }
   ],
   "source": [
    "rav4e"
   ]
  },
  {
   "cell_type": "code",
   "execution_count": 29,
   "metadata": {
    "collapsed": true
   },
   "outputs": [],
   "source": [
    "def annualized_capital_cost(cost, discount_rate, lifetime):\n",
    "    '''\n",
    "    Arguments:\n",
    "        cost - in GBP2015\n",
    "        discount_rate - %\n",
    "        lifetime - in years\n",
    "    '''\n",
    "    ann_cc = cost * (discount_rate / (1-(1+discount_rate)**-lifetime))\n",
    "    return ann_cc"
   ]
  },
  {
   "cell_type": "code",
   "execution_count": 30,
   "metadata": {
    "collapsed": false
   },
   "outputs": [
    {
     "data": {
      "text/plain": [
       "309.2162502767719"
      ]
     },
     "execution_count": 30,
     "metadata": {},
     "output_type": "execute_result"
    }
   ],
   "source": [
    "annualized_capital_cost(1900, 0.1, 10)"
   ]
  },
  {
   "cell_type": "code",
   "execution_count": null,
   "metadata": {
    "collapsed": true
   },
   "outputs": [],
   "source": []
  },
  {
   "cell_type": "code",
   "execution_count": 31,
   "metadata": {
    "collapsed": false
   },
   "outputs": [],
   "source": [
    "def compute_profit():\n",
    "\n",
    "    time_dispatched = 8000 # hours\n",
    "\n",
    "    battery_size = 27.4 # kWh\n",
    "    battery_unit_cost = 350 # £/kWh\n",
    "\n",
    "    connector_power = 14 # kW\n",
    "\n",
    "    battery_capital_cost = battery_size * battery_unit_cost # 2015£\n",
    "    lifetime_cycles = 2000\n",
    "    depth_of_discharge = 0.8\n",
    "\n",
    "    electricity_price = 0.2 # £/kWh - sell when its expensive\n",
    "    purchased_energy_cost = 0.05 # £/kWh - buy when it's cheap\n",
    "\n",
    "    round_trip_efficiency = 0.73 # 73% efficiency grid-battery-grid\n",
    "\n",
    "    cost_of_v2g_equip = 2000\n",
    "    discount_rate = 0.1 # 10%\n",
    "    economic_lifetime = 10\n",
    "\n",
    "    stored_energy = battery_size * depth_of_discharge # kWh\n",
    "    distance_driven = 0 # km\n",
    "    range_buffer = 10 # km\n",
    "\n",
    "    power_available = max_vehicle_power(connector_power,\n",
    "                                        stored_energy,\n",
    "                                        distance_driven,\n",
    "                                        range_buffer,\n",
    "                                        8,\n",
    "                                        )\n",
    "\n",
    "    energy_dispatched = power_available * time_dispatched\n",
    "\n",
    "    revenue = electricity_price * energy_dispatched\n",
    "\n",
    "    cost = cost_of_vehicle_to_grid(battery_capital_cost,\n",
    "                                   lifetime_cycles,\n",
    "                                   battery_size,\n",
    "                                   depth_of_discharge,\n",
    "                                   purchased_energy_cost,\n",
    "                                   round_trip_efficiency,\n",
    "                                   energy_dispatched,\n",
    "                                   cost_of_v2g_equip,\n",
    "                                   discount_rate,\n",
    "                                   economic_lifetime)\n",
    "\n",
    "    if revenue > cost:\n",
    "        profit = revenue - cost\n",
    "    else:\n",
    "        profit = 0\n",
    "\n",
    "    return profit, revenue, cost"
   ]
  },
  {
   "cell_type": "code",
   "execution_count": 32,
   "metadata": {
    "collapsed": false
   },
   "outputs": [
    {
     "ename": "NameError",
     "evalue": "name 'cost_of_vehicle_to_grid' is not defined",
     "output_type": "error",
     "traceback": [
      "\u001b[0;31m---------------------------------------------------------------------------\u001b[0m",
      "\u001b[0;31mNameError\u001b[0m                                 Traceback (most recent call last)",
      "\u001b[0;32m<ipython-input-32-663c48ebde79>\u001b[0m in \u001b[0;36m<module>\u001b[0;34m()\u001b[0m\n\u001b[0;32m----> 1\u001b[0;31m \u001b[0mcompute_profit\u001b[0m\u001b[0;34m(\u001b[0m\u001b[0;34m)\u001b[0m\u001b[0;34m\u001b[0m\u001b[0m\n\u001b[0m",
      "\u001b[0;32m<ipython-input-31-8844f1db3f56>\u001b[0m in \u001b[0;36mcompute_profit\u001b[0;34m()\u001b[0m\n\u001b[1;32m     36\u001b[0m     \u001b[0mrevenue\u001b[0m \u001b[0;34m=\u001b[0m \u001b[0melectricity_price\u001b[0m \u001b[0;34m*\u001b[0m \u001b[0menergy_dispatched\u001b[0m\u001b[0;34m\u001b[0m\u001b[0m\n\u001b[1;32m     37\u001b[0m \u001b[0;34m\u001b[0m\u001b[0m\n\u001b[0;32m---> 38\u001b[0;31m     cost = cost_of_vehicle_to_grid(battery_capital_cost,\n\u001b[0m\u001b[1;32m     39\u001b[0m                                    \u001b[0mlifetime_cycles\u001b[0m\u001b[0;34m,\u001b[0m\u001b[0;34m\u001b[0m\u001b[0m\n\u001b[1;32m     40\u001b[0m                                    \u001b[0mbattery_size\u001b[0m\u001b[0;34m,\u001b[0m\u001b[0;34m\u001b[0m\u001b[0m\n",
      "\u001b[0;31mNameError\u001b[0m: name 'cost_of_vehicle_to_grid' is not defined"
     ]
    }
   ],
   "source": [
    "compute_profit()"
   ]
  },
  {
   "cell_type": "code",
   "execution_count": null,
   "metadata": {
    "collapsed": true
   },
   "outputs": [],
   "source": [
    "def cost_of_vehicle_to_grid(battery_capital_cost,\n",
    "                            lifetime_cycles,\n",
    "                            total_energy_stored,\n",
    "                            depth_of_discharge,\n",
    "                            purchased_energy_cost,\n",
    "                            round_trip_efficiency,\n",
    "                            energy_dispatched,\n",
    "                            cost_of_v2g_equip,\n",
    "                            discount_rate,\n",
    "                            economic_lifetime):\n",
    "    \n",
    "    battery_life = battery_lifetime(lifetime_cycles,\n",
    "                                    total_energy_stored,\n",
    "                                    depth_of_discharge\n",
    "                                    )\n",
    "    \n",
    "    degredation_cost = battery_capital_cost / battery_life\n",
    "    \n",
    "    cost_of_energy = (purchased_energy_cost / round_trip_efficiency) \\\n",
    "                        + degredation_cost\n",
    "    \n",
    "    annualised_capex = annualized_capital_cost(cost_of_v2g_equip, \n",
    "                                               discount_rate, \n",
    "                                               economic_lifetime)\n",
    "    \n",
    "    cost = (cost_of_energy * energy_dispatched) + annualised_capex\n",
    "    \n",
    "    return cost"
   ]
  },
  {
   "cell_type": "raw",
   "metadata": {},
   "source": [
    "\n",
    "    "
   ]
  },
  {
   "cell_type": "code",
   "execution_count": null,
   "metadata": {
    "collapsed": false
   },
   "outputs": [],
   "source": []
  },
  {
   "cell_type": "code",
   "execution_count": null,
   "metadata": {
    "collapsed": true
   },
   "outputs": [],
   "source": []
  }
 ],
 "metadata": {
  "celltoolbar": "Slideshow",
  "kernelspec": {
   "display_name": "Python 3",
   "language": "python",
   "name": "python3"
  },
  "language_info": {
   "codemirror_mode": {
    "name": "ipython",
    "version": 3
   },
   "file_extension": ".py",
   "mimetype": "text/x-python",
   "name": "python",
   "nbconvert_exporter": "python",
   "pygments_lexer": "ipython3",
   "version": "3.5.0"
  }
 },
 "nbformat": 4,
 "nbformat_minor": 0
}
